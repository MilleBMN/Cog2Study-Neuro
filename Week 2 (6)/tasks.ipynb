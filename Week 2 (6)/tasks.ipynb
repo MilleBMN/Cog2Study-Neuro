{
 "cells": [
  {
   "cell_type": "code",
   "execution_count": 5,
   "metadata": {},
   "outputs": [],
   "source": [
    "import os\n",
    "import numpy as np \n",
    "import mne\n"
   ]
  },
  {
   "cell_type": "code",
   "execution_count": 6,
   "metadata": {},
   "outputs": [
    {
     "output_type": "stream",
     "name": "stdout",
     "text": "Using default location ~/mne_data for sample...\nCreating ~/mne_data\nDownloading file 'MNE-sample-data-processed.tar.gz' from 'https://osf.io/86qa2/download?version=5' to '/home/coder/mne_data'.\n100%|██████████████████████████████████████| 1.65G/1.65G [00:00<00:00, 812GB/s]\nUntarring contents of '/home/coder/mne_data/MNE-sample-data-processed.tar.gz' to '/home/coder/mne_data'\nAttempting to create new mne-python configuration file:\n/home/coder/.mne/mne-python.json\nOpening raw data file /home/coder/mne_data/MNE-sample-data/MEG/sample/sample_audvis_filt-0-40_raw.fif...\n    Read a total of 4 projection items:\n        PCA-v1 (1 x 102)  idle\n        PCA-v2 (1 x 102)  idle\n        PCA-v3 (1 x 102)  idle\n        Average EEG reference (1 x 60)  idle\n    Range : 6450 ... 48149 =     42.956 ...   320.665 secs\nReady.\n"
    }
   ],
   "source": [
    "sample_data_folder = mne.datasets.sample.data_path()\n",
    "sample_data_raw_file = os.path.join(sample_data_folder, 'MEG', 'sample',\n",
    "                                    'sample_audvis_filt-0-40_raw.fif')\n",
    "raw = mne.io.read_raw_fif(sample_data_raw_file)"
   ]
  },
  {
   "cell_type": "code",
   "execution_count": null,
   "metadata": {},
   "outputs": [],
   "source": []
  }
 ],
 "metadata": {
  "language_info": {
   "codemirror_mode": {
    "name": "ipython",
    "version": 3
   },
   "file_extension": ".py",
   "mimetype": "text/x-python",
   "name": "python",
   "nbconvert_exporter": "python",
   "pygments_lexer": "ipython3",
   "version": "3.7.3-final"
  },
  "orig_nbformat": 2,
  "kernelspec": {
   "name": "python37364bit39b48bb14ee346f6b93e9fe3a6f179f3",
   "display_name": "Python 3.7.3 64-bit"
  }
 },
 "nbformat": 4,
 "nbformat_minor": 2
}