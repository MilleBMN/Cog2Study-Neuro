{
 "cells": [
  {
   "cell_type": "code",
   "execution_count": 5,
   "metadata": {},
   "outputs": [],
   "source": [
    "import os\n",
    "import numpy as np \n",
    "import mne\n"
   ]
  },
  {
   "cell_type": "code",
   "execution_count": 6,
   "metadata": {},
   "outputs": [
    {
     "output_type": "stream",
     "name": "stdout",
     "text": "Using default location ~/mne_data for sample...\nCreating ~/mne_data\nDownloading file 'MNE-sample-data-processed.tar.gz' from 'https://osf.io/86qa2/download?version=5' to '/home/coder/mne_data'.\n100%|██████████████████████████████████████| 1.65G/1.65G [00:00<00:00, 812GB/s]\nUntarring contents of '/home/coder/mne_data/MNE-sample-data-processed.tar.gz' to '/home/coder/mne_data'\nAttempting to create new mne-python configuration file:\n/home/coder/.mne/mne-python.json\nOpening raw data file /home/coder/mne_data/MNE-sample-data/MEG/sample/sample_audvis_filt-0-40_raw.fif...\n    Read a total of 4 projection items:\n        PCA-v1 (1 x 102)  idle\n        PCA-v2 (1 x 102)  idle\n        PCA-v3 (1 x 102)  idle\n        Average EEG reference (1 x 60)  idle\n    Range : 6450 ... 48149 =     42.956 ...   320.665 secs\nReady.\n"
    }
   ],
   "source": [
    "sample_data_folder = mne.datasets.sample.data_path()\n",
    "sample_data_raw_file = os.path.join(sample_data_folder, 'MEG', 'sample',\n",
    "                                    'sample_audvis_filt-0-40_raw.fif')\n",
    "raw = mne.io.read_raw_fif(sample_data_raw_file)"
   ]
  },
  {
   "cell_type": "code",
   "execution_count": 7,
   "metadata": {},
   "outputs": [
    {
     "output_type": "stream",
     "name": "stdout",
     "text": "<Raw | sample_audvis_filt-0-40_raw.fif, 376 x 41700 (277.7 s), ~3.3 MB, data not loaded>\n"
    }
   ],
   "source": [
    "print(raw)\n"
   ]
  },
  {
   "cell_type": "code",
   "execution_count": 8,
   "metadata": {},
   "outputs": [
    {
     "output_type": "stream",
     "name": "stdout",
     "text": "<Info | 15 non-empty values\n bads: 2 items (MEG 2443, EEG 053)\n ch_names: MEG 0113, MEG 0112, MEG 0111, MEG 0122, MEG 0123, MEG 0121, MEG ...\n chs: 204 Gradiometers, 102 Magnetometers, 9 Stimulus, 60 EEG, 1 EOG\n custom_ref_applied: False\n dev_head_t: MEG device -> head transform\n dig: 146 items (3 Cardinal, 4 HPI, 61 EEG, 78 Extra)\n file_id: 4 items (dict)\n highpass: 0.1 Hz\n hpi_meas: 1 item (list)\n hpi_results: 1 item (list)\n lowpass: 40.0 Hz\n meas_date: 2002-12-03 19:01:10 UTC\n meas_id: 4 items (dict)\n nchan: 376\n projs: PCA-v1: off, PCA-v2: off, PCA-v3: off, Average EEG reference: off\n sfreq: 150.2 Hz\n>\n"
    }
   ],
   "source": [
    "print(raw.info)"
   ]
  },
  {
   "cell_type": "code",
   "execution_count": null,
   "metadata": {},
   "outputs": [],
   "source": [
    "raw.plot_psd(fmax=50)\n",
    "raw.plot(duration=5, n_channels=30)"
   ]
  },
  {
   "cell_type": "code",
   "execution_count": null,
   "metadata": {},
   "outputs": [],
   "source": []
  }
 ],
 "metadata": {
  "language_info": {
   "codemirror_mode": {
    "name": "ipython",
    "version": 3
   },
   "file_extension": ".py",
   "mimetype": "text/x-python",
   "name": "python",
   "nbconvert_exporter": "python",
   "pygments_lexer": "ipython3",
   "version": "3.7.3-final"
  },
  "orig_nbformat": 2,
  "kernelspec": {
   "name": "python37364bit39b48bb14ee346f6b93e9fe3a6f179f3",
   "display_name": "Python 3.7.3 64-bit"
  }
 },
 "nbformat": 4,
 "nbformat_minor": 2
}